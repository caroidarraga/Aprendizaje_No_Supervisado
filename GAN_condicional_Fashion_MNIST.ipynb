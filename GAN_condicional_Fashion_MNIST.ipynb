{
  "nbformat": 4,
  "nbformat_minor": 0,
  "metadata": {
    "colab": {
      "provenance": [],
      "toc_visible": true,
      "gpuType": "T4",
      "include_colab_link": true
    },
    "kernelspec": {
      "display_name": "Python 3",
      "name": "python3"
    },
    "language_info": {
      "codemirror_mode": {
        "name": "ipython",
        "version": 3
      },
      "file_extension": ".py",
      "mimetype": "text/x-python",
      "name": "python",
      "nbconvert_exporter": "python",
      "pygments_lexer": "ipython3",
      "version": "3.7.0"
    },
    "accelerator": "GPU"
  },
  "cells": [
    {
      "cell_type": "markdown",
      "metadata": {
        "id": "view-in-github",
        "colab_type": "text"
      },
      "source": [
        "<a href=\"https://colab.research.google.com/github/caroidarraga/Aprendizaje_No_Supervisado/blob/main/GAN_condicional_Fashion_MNIST.ipynb\" target=\"_parent\"><img src=\"https://colab.research.google.com/assets/colab-badge.svg\" alt=\"Open In Colab\"/></a>"
      ]
    },
    {
      "cell_type": "markdown",
      "metadata": {
        "id": "pq-_l9-ZBHGg"
      },
      "source": [
        "# Conditional GAN\n",
        "\n",
        "**Author:** [Sayak Paul](https://twitter.com/RisingSayak)<br>\n",
        "**Date created:** 2021/07/13<br>\n",
        "**Last modified:** 2021/10/19 by Félix Fuentes (VIU)<br>\n"
      ]
    },
    {
      "cell_type": "code",
      "metadata": {
        "id": "geqn-VCbBHGl",
        "colab": {
          "base_uri": "https://localhost:8080/"
        },
        "outputId": "ac47b3eb-3b8b-4130-d1a1-d04d8a336743"
      },
      "source": [
        "!pip install -q git+https://github.com/tensorflow/docs"
      ],
      "execution_count": 1,
      "outputs": [
        {
          "output_type": "stream",
          "name": "stdout",
          "text": [
            "  Preparing metadata (setup.py) ... \u001b[?25l\u001b[?25hdone\n",
            "  Building wheel for tensorflow-docs (setup.py) ... \u001b[?25l\u001b[?25hdone\n"
          ]
        }
      ]
    },
    {
      "cell_type": "markdown",
      "metadata": {
        "id": "gGV4sv_7BHGm"
      },
      "source": [
        "## Imports"
      ]
    },
    {
      "cell_type": "code",
      "metadata": {
        "id": "XIpafH8wBHGn"
      },
      "source": [
        "from tensorflow import keras\n",
        "from tensorflow.keras import layers\n",
        "\n",
        "from tensorflow_docs.vis import embed\n",
        "import matplotlib.pyplot as plt\n",
        "import tensorflow as tf\n",
        "import numpy as np\n",
        "import imageio"
      ],
      "execution_count": 2,
      "outputs": []
    },
    {
      "cell_type": "markdown",
      "metadata": {
        "id": "rmhG5KBoBHGn"
      },
      "source": [
        "## Constants and hyperparameters"
      ]
    },
    {
      "cell_type": "code",
      "metadata": {
        "id": "tjMwc4m5BHGn"
      },
      "source": [
        "batch_size = 64\n",
        "num_channels = 1\n",
        "num_classes = 10\n",
        "image_size = 28\n",
        "latent_dim = 128"
      ],
      "execution_count": 3,
      "outputs": []
    },
    {
      "cell_type": "markdown",
      "metadata": {
        "id": "Op4-kMttBHGo"
      },
      "source": [
        "## Loading the MNIST dataset and preprocessing it"
      ]
    },
    {
      "cell_type": "code",
      "metadata": {
        "id": "UxXF9NfmBHGo",
        "colab": {
          "base_uri": "https://localhost:8080/"
        },
        "outputId": "beda7a5f-87ec-4fac-c83e-cbdba5906a9d"
      },
      "source": [
        "# We'll use all the available examples from both the training and test\n",
        "# sets.\n",
        "(x_train, y_train), (x_test, y_test) = keras.datasets.fashion_mnist.load_data()\n",
        "all_digits = np.concatenate([x_train, x_test])\n",
        "all_labels = np.concatenate([y_train, y_test])\n",
        "\n",
        "# Scale the pixel values to [0, 1] range, add a channel dimension to\n",
        "# the images, and one-hot encode the labels.\n",
        "all_digits = all_digits.astype(\"float32\") / 255.0\n",
        "all_digits = np.reshape(all_digits, (-1, 28, 28, 1))\n",
        "all_labels = keras.utils.to_categorical(all_labels, 10)\n",
        "\n",
        "# Create tf.data.Dataset.\n",
        "dataset = tf.data.Dataset.from_tensor_slices((all_digits, all_labels))\n",
        "dataset = dataset.shuffle(buffer_size=1024).batch(batch_size)\n",
        "\n",
        "print(f\"Shape of training images: {all_digits.shape}\")\n",
        "print(f\"Shape of training labels: {all_labels.shape}\")"
      ],
      "execution_count": 4,
      "outputs": [
        {
          "output_type": "stream",
          "name": "stdout",
          "text": [
            "Downloading data from https://storage.googleapis.com/tensorflow/tf-keras-datasets/train-labels-idx1-ubyte.gz\n",
            "29515/29515 [==============================] - 0s 0us/step\n",
            "Downloading data from https://storage.googleapis.com/tensorflow/tf-keras-datasets/train-images-idx3-ubyte.gz\n",
            "26421880/26421880 [==============================] - 1s 0us/step\n",
            "Downloading data from https://storage.googleapis.com/tensorflow/tf-keras-datasets/t10k-labels-idx1-ubyte.gz\n",
            "5148/5148 [==============================] - 0s 0us/step\n",
            "Downloading data from https://storage.googleapis.com/tensorflow/tf-keras-datasets/t10k-images-idx3-ubyte.gz\n",
            "4422102/4422102 [==============================] - 1s 0us/step\n",
            "Shape of training images: (70000, 28, 28, 1)\n",
            "Shape of training labels: (70000, 10)\n"
          ]
        }
      ]
    },
    {
      "cell_type": "markdown",
      "metadata": {
        "id": "3UzKyNtUBHGp"
      },
      "source": [
        "## Calculating the number of input channel for the generator and discriminator\n",
        "\n",
        "In a regular (unconditional) GAN, we start by sampling noise (of some fixed\n",
        "dimension) from a normal distribution. In our case, we also need to account\n",
        "for the class labels. We will have to add the number of classes to\n",
        "the input channels of the generator (noise input) as well as the discriminator\n",
        "(generated image input)."
      ]
    },
    {
      "cell_type": "code",
      "metadata": {
        "id": "voAqgxpFBHGq",
        "colab": {
          "base_uri": "https://localhost:8080/"
        },
        "outputId": "eeba19ce-7083-43a0-e7f2-2a59fc50e3f2"
      },
      "source": [
        "generator_in_channels = latent_dim + num_classes\n",
        "discriminator_in_channels = num_channels + num_classes\n",
        "print(num_classes, generator_in_channels, discriminator_in_channels)"
      ],
      "execution_count": 5,
      "outputs": [
        {
          "output_type": "stream",
          "name": "stdout",
          "text": [
            "10 138 11\n"
          ]
        }
      ]
    },
    {
      "cell_type": "markdown",
      "metadata": {
        "id": "KGz51VNCBHGr"
      },
      "source": [
        "## Creating the discriminator and generator\n",
        "\n",
        "The model definitions (`discriminator`, `generator`, and `ConditionalGAN`) have been\n",
        "adapted from [this example](https://keras.io/guides/customizing_what_happens_in_fit/)."
      ]
    },
    {
      "cell_type": "code",
      "metadata": {
        "id": "yb2dmUmPBHGr"
      },
      "source": [
        "# Create the discriminator.\n",
        "discriminator = keras.Sequential(\n",
        "    [\n",
        "        keras.layers.InputLayer((28, 28, discriminator_in_channels)),\n",
        "        layers.Conv2D(64, (3, 3), strides=(2, 2), padding=\"same\"),\n",
        "        layers.LeakyReLU(alpha=0.2),\n",
        "        layers.Conv2D(128, (3, 3), strides=(2, 2), padding=\"same\"),\n",
        "        layers.LeakyReLU(alpha=0.2),\n",
        "        layers.GlobalMaxPooling2D(),\n",
        "        layers.Dense(1),\n",
        "    ],\n",
        "    name=\"discriminator\",\n",
        ")\n",
        "\n",
        "# Create the generator.\n",
        "generator = keras.Sequential(\n",
        "    [\n",
        "        keras.layers.InputLayer((generator_in_channels,)),\n",
        "        # We want to generate 128 + num_classes coefficients to reshape into a\n",
        "        # 7x7x(128 + num_classes) map.\n",
        "        layers.Dense(7 * 7 * generator_in_channels),\n",
        "        layers.LeakyReLU(alpha=0.2),\n",
        "        layers.Reshape((7, 7, generator_in_channels)),\n",
        "        layers.Conv2DTranspose(128, (4, 4), strides=(2, 2), padding=\"same\"),\n",
        "        layers.LeakyReLU(alpha=0.2),\n",
        "        layers.Conv2DTranspose(128, (4, 4), strides=(2, 2), padding=\"same\"),\n",
        "        layers.LeakyReLU(alpha=0.2),\n",
        "        layers.Conv2D(1, (7, 7), padding=\"same\", activation=\"sigmoid\"),\n",
        "    ],\n",
        "    name=\"generator\",\n",
        ")"
      ],
      "execution_count": 6,
      "outputs": []
    },
    {
      "cell_type": "markdown",
      "metadata": {
        "id": "1K1FLlLsBHGr"
      },
      "source": [
        "## Creating a `ConditionalGAN` model"
      ]
    },
    {
      "cell_type": "code",
      "metadata": {
        "id": "k0dTrYgOBHGr"
      },
      "source": [
        "\n",
        "class ConditionalGAN(keras.Model):\n",
        "    def __init__(self, discriminator, generator, latent_dim):\n",
        "        super(ConditionalGAN, self).__init__()\n",
        "        self.discriminator = discriminator\n",
        "        self.generator = generator\n",
        "        self.latent_dim = latent_dim\n",
        "        self.gen_loss_tracker = keras.metrics.Mean(name=\"generator_loss\")\n",
        "        self.disc_loss_tracker = keras.metrics.Mean(name=\"discriminator_loss\")\n",
        "\n",
        "    @property\n",
        "    def metrics(self):\n",
        "        return [self.gen_loss_tracker, self.disc_loss_tracker]\n",
        "\n",
        "    def compile(self, d_optimizer, g_optimizer, loss_fn):\n",
        "        super(ConditionalGAN, self).compile()\n",
        "        self.d_optimizer = d_optimizer\n",
        "        self.g_optimizer = g_optimizer\n",
        "        self.loss_fn = loss_fn\n",
        "\n",
        "    def train_step(self, data):\n",
        "        # Unpack the data.\n",
        "        real_images, one_hot_labels = data\n",
        "\n",
        "        # Add dummy dimensions to the labels so that they can be concatenated with\n",
        "        # the images. This is for the discriminator.\n",
        "        image_one_hot_labels = one_hot_labels[:, :, None, None]\n",
        "        image_one_hot_labels = tf.repeat(\n",
        "            image_one_hot_labels, repeats=[image_size * image_size]\n",
        "        )\n",
        "        image_one_hot_labels = tf.reshape(\n",
        "            image_one_hot_labels, (-1, image_size, image_size, num_classes)\n",
        "        )\n",
        "\n",
        "        # Sample random points in the latent space and concatenate the labels.\n",
        "        # This is for the generator.\n",
        "        batch_size = tf.shape(real_images)[0]\n",
        "        random_latent_vectors = tf.random.normal(shape=(batch_size, self.latent_dim))\n",
        "        random_vector_labels = tf.concat(\n",
        "            [random_latent_vectors, one_hot_labels], axis=1\n",
        "        )\n",
        "\n",
        "        # Decode the noise (guided by labels) to fake images.\n",
        "        generated_images = self.generator(random_vector_labels)\n",
        "\n",
        "        # Combine them with real images. Note that we are concatenating the labels\n",
        "        # with these images here.\n",
        "        fake_image_and_labels = tf.concat([generated_images, image_one_hot_labels], -1)\n",
        "        real_image_and_labels = tf.concat([real_images, image_one_hot_labels], -1)\n",
        "        combined_images = tf.concat(\n",
        "            [fake_image_and_labels, real_image_and_labels], axis=0\n",
        "        )\n",
        "\n",
        "        # Assemble labels discriminating real from fake images.\n",
        "        labels = tf.concat(\n",
        "            [tf.ones((batch_size, 1)), tf.zeros((batch_size, 1))], axis=0\n",
        "        )\n",
        "\n",
        "        # Train the discriminator.\n",
        "        with tf.GradientTape() as tape:\n",
        "            predictions = self.discriminator(combined_images)\n",
        "            d_loss = self.loss_fn(labels, predictions)\n",
        "        grads = tape.gradient(d_loss, self.discriminator.trainable_weights)\n",
        "        self.d_optimizer.apply_gradients(\n",
        "            zip(grads, self.discriminator.trainable_weights)\n",
        "        )\n",
        "\n",
        "        # Sample random points in the latent space.\n",
        "        random_latent_vectors = tf.random.normal(shape=(batch_size, self.latent_dim))\n",
        "        random_vector_labels = tf.concat(\n",
        "            [random_latent_vectors, one_hot_labels], axis=1\n",
        "        )\n",
        "\n",
        "        # Assemble labels that say \"all real images\".\n",
        "        misleading_labels = tf.zeros((batch_size, 1))\n",
        "\n",
        "        # Train the generator (note that we should *not* update the weights\n",
        "        # of the discriminator)!\n",
        "        with tf.GradientTape() as tape:\n",
        "            fake_images = self.generator(random_vector_labels)\n",
        "            fake_image_and_labels = tf.concat([fake_images, image_one_hot_labels], -1)\n",
        "            predictions = self.discriminator(fake_image_and_labels)\n",
        "            g_loss = self.loss_fn(misleading_labels, predictions)\n",
        "        grads = tape.gradient(g_loss, self.generator.trainable_weights)\n",
        "        self.g_optimizer.apply_gradients(zip(grads, self.generator.trainable_weights))\n",
        "\n",
        "        # Monitor loss.\n",
        "        self.gen_loss_tracker.update_state(g_loss)\n",
        "        self.disc_loss_tracker.update_state(d_loss)\n",
        "        return {\n",
        "            \"g_loss\": self.gen_loss_tracker.result(),\n",
        "            \"d_loss\": self.disc_loss_tracker.result(),\n",
        "        }\n"
      ],
      "execution_count": 7,
      "outputs": []
    },
    {
      "cell_type": "markdown",
      "metadata": {
        "id": "zjFvBJCPBHGs"
      },
      "source": [
        "## Training the Conditional GAN"
      ]
    },
    {
      "cell_type": "code",
      "metadata": {
        "id": "_shTs-_GBHGs",
        "colab": {
          "base_uri": "https://localhost:8080/"
        },
        "outputId": "8da7e061-b8c8-484c-a054-6fb040b9af2d"
      },
      "source": [
        "cond_gan = ConditionalGAN(\n",
        "    discriminator=discriminator, generator=generator, latent_dim=latent_dim\n",
        ")\n",
        "cond_gan.compile(\n",
        "    d_optimizer=keras.optimizers.Adam(learning_rate=0.0003),\n",
        "    g_optimizer=keras.optimizers.Adam(learning_rate=0.0003),\n",
        "    loss_fn=keras.losses.BinaryCrossentropy(from_logits=True),\n",
        ")\n",
        "\n",
        "cond_gan.fit(dataset, epochs=20)"
      ],
      "execution_count": 8,
      "outputs": [
        {
          "output_type": "stream",
          "name": "stdout",
          "text": [
            "Epoch 1/20\n",
            "1094/1094 [==============================] - 43s 28ms/step - g_loss: 1.5818 - d_loss: 0.4580\n",
            "Epoch 2/20\n",
            "1094/1094 [==============================] - 30s 28ms/step - g_loss: 2.1195 - d_loss: 0.2885\n",
            "Epoch 3/20\n",
            "1094/1094 [==============================] - 30s 28ms/step - g_loss: 2.2191 - d_loss: 0.2316\n",
            "Epoch 4/20\n",
            "1094/1094 [==============================] - 30s 27ms/step - g_loss: 0.8983 - d_loss: 0.6999\n",
            "Epoch 5/20\n",
            "1094/1094 [==============================] - 30s 27ms/step - g_loss: 0.8170 - d_loss: 0.6852\n",
            "Epoch 6/20\n",
            "1094/1094 [==============================] - 30s 27ms/step - g_loss: 0.8026 - d_loss: 0.6740\n",
            "Epoch 7/20\n",
            "1094/1094 [==============================] - 30s 27ms/step - g_loss: 0.8275 - d_loss: 0.6676\n",
            "Epoch 8/20\n",
            "1094/1094 [==============================] - 30s 27ms/step - g_loss: 0.9577 - d_loss: 0.6598\n",
            "Epoch 9/20\n",
            "1094/1094 [==============================] - 30s 27ms/step - g_loss: 0.8311 - d_loss: 0.6683\n",
            "Epoch 10/20\n",
            "1094/1094 [==============================] - 30s 27ms/step - g_loss: 0.8304 - d_loss: 0.6806\n",
            "Epoch 11/20\n",
            "1094/1094 [==============================] - 30s 27ms/step - g_loss: 0.7775 - d_loss: 0.7041\n",
            "Epoch 12/20\n",
            "1094/1094 [==============================] - 30s 27ms/step - g_loss: 0.7693 - d_loss: 0.6897\n",
            "Epoch 13/20\n",
            "1094/1094 [==============================] - 30s 27ms/step - g_loss: 0.7765 - d_loss: 0.6882\n",
            "Epoch 14/20\n",
            "1094/1094 [==============================] - 30s 27ms/step - g_loss: 0.7505 - d_loss: 0.6913\n",
            "Epoch 15/20\n",
            "1094/1094 [==============================] - 30s 27ms/step - g_loss: 0.7552 - d_loss: 0.6880\n",
            "Epoch 16/20\n",
            "1094/1094 [==============================] - 30s 27ms/step - g_loss: 0.7355 - d_loss: 0.6959\n",
            "Epoch 17/20\n",
            "1094/1094 [==============================] - 30s 27ms/step - g_loss: 0.7288 - d_loss: 0.7003\n",
            "Epoch 18/20\n",
            "1094/1094 [==============================] - 30s 27ms/step - g_loss: 0.7432 - d_loss: 0.6866\n",
            "Epoch 19/20\n",
            "1094/1094 [==============================] - 30s 27ms/step - g_loss: 0.8749 - d_loss: 0.6532\n",
            "Epoch 20/20\n",
            "1094/1094 [==============================] - 30s 27ms/step - g_loss: 0.7628 - d_loss: 0.6850\n"
          ]
        },
        {
          "output_type": "execute_result",
          "data": {
            "text/plain": [
              "<keras.callbacks.History at 0x7f57b080ffd0>"
            ]
          },
          "metadata": {},
          "execution_count": 8
        }
      ]
    },
    {
      "cell_type": "markdown",
      "metadata": {
        "id": "LMXARmdLBHGs"
      },
      "source": [
        "## Interpolating between classes with the trained generator"
      ]
    },
    {
      "cell_type": "code",
      "metadata": {
        "id": "ZCDSoaNDBHGt",
        "colab": {
          "base_uri": "https://localhost:8080/"
        },
        "outputId": "c7b025d2-49dc-45b0-8baa-89bd80f08c47"
      },
      "source": [
        "# We first extract the trained generator from our Conditiona GAN.\n",
        "trained_gen = cond_gan.generator\n",
        "\n",
        "# Choose the number of intermediate images that would be generated in\n",
        "# between the interpolation + 2 (start and last images).\n",
        "num_interpolation = 9  # @param {type:\"integer\"}\n",
        "\n",
        "# Sample noise for the interpolation.\n",
        "interpolation_noise = tf.random.normal(shape=(1, latent_dim))\n",
        "interpolation_noise = tf.repeat(interpolation_noise, repeats=num_interpolation)\n",
        "interpolation_noise = tf.reshape(interpolation_noise, (num_interpolation, latent_dim))\n",
        "\n",
        "\n",
        "def interpolate_class(first_number, second_number):\n",
        "    # Convert the start and end labels to one-hot encoded vectors.\n",
        "    first_label = keras.utils.to_categorical([first_number], num_classes)\n",
        "    second_label = keras.utils.to_categorical([second_number], num_classes)\n",
        "    first_label = tf.cast(first_label, tf.float32)\n",
        "    second_label = tf.cast(second_label, tf.float32)\n",
        "\n",
        "    # Calculate the interpolation vector between the two labels.\n",
        "    percent_second_label = tf.linspace(0, 1, num_interpolation)[:, None]\n",
        "    percent_second_label = tf.cast(percent_second_label, tf.float32)\n",
        "    interpolation_labels = (\n",
        "        first_label * (1 - percent_second_label) + second_label * percent_second_label\n",
        "    )\n",
        "\n",
        "    # Combine the noise and the labels and run inference with the generator.\n",
        "    noise_and_labels = tf.concat([interpolation_noise, interpolation_labels], 1)\n",
        "    fake = trained_gen.predict(noise_and_labels)\n",
        "    return fake\n",
        "\n",
        "\n",
        "start_class = 1  # @param {type:\"slider\", min:0, max:9, step:1}\n",
        "end_class = 5  # @param {type:\"slider\", min:0, max:9, step:1}\n",
        "\n",
        "fake_images = interpolate_class(start_class, end_class)"
      ],
      "execution_count": 9,
      "outputs": [
        {
          "output_type": "stream",
          "name": "stdout",
          "text": [
            "1/1 [==============================] - 0s 284ms/step\n"
          ]
        }
      ]
    },
    {
      "cell_type": "markdown",
      "metadata": {
        "id": "8SBR7QMSBHGt"
      },
      "source": [
        "Here, we first sample noise from a normal distribution and then we repeat that for\n",
        "`num_interpolation` times and reshape the result accordingly.\n",
        "We then distribute it uniformly for `num_interpolation`\n",
        "with the label indentities being present in some proportion."
      ]
    },
    {
      "cell_type": "code",
      "metadata": {
        "id": "xd2czW4cBHGt",
        "colab": {
          "base_uri": "https://localhost:8080/",
          "height": 117
        },
        "outputId": "046a8160-5c94-45e8-c288-83dc495515e7"
      },
      "source": [
        "fake_images *= 255.0\n",
        "converted_images = fake_images.astype(np.uint8)\n",
        "converted_images = tf.image.resize(converted_images, (96, 96)).numpy().astype(np.uint8)\n",
        "imageio.mimsave(\"animation.gif\", converted_images, fps=1)\n",
        "embed.embed_file(\"animation.gif\")"
      ],
      "execution_count": 10,
      "outputs": [
        {
          "output_type": "execute_result",
          "data": {
            "text/plain": [
              "<IPython.core.display.HTML object>"
            ],
            "text/html": [
              "<img src=\"data:image/gif;base64,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\"/>"
            ]
          },
          "metadata": {},
          "execution_count": 10
        }
      ]
    },
    {
      "cell_type": "markdown",
      "metadata": {
        "id": "MpZs11h6BHGt"
      },
      "source": [
        "We can further improve the performance of this model with recipes like\n",
        "[WGAN-GP](https://keras.io/examples/generative/wgan_gp).\n",
        "Conditional generation is also widely used in many modern image generation architectures like\n",
        "[VQ-GANs](https://arxiv.org/abs/2012.09841), [DALL-E](https://openai.com/blog/dall-e/),\n",
        "etc."
      ]
    }
  ]
}